{
 "cells": [
  {
   "cell_type": "code",
   "execution_count": null,
   "id": "92ab13c9",
   "metadata": {},
   "outputs": [],
   "source": [
    "a=int(input('nhập vào một số nguyên từ 1 đến 7: '))\n",
    "if a==1:\n",
    "    print (f'ngày này là thứ hai')\n",
    "elif a==2:\n",
    "    print(f'ngày này là thứ ba')\n",
    "elif a==3:\n",
    "    print(f'ngày này là thứ tư')\n",
    "elif a==4:\n",
    "    print(f'ngày này là thứ năm')\n",
    "elif a==5:\n",
    "    print(f'ngày này la thứ sáu')\n",
    "elif a==6:\n",
    "    print(f'ngày này là thứ bảy')\n",
    "elif a==7:\n",
    "    print(f'ngày này là chủ nhật')\n",
    "else:\n",
    "    print(f'Lỗi nhập số ngày không đúng')"
   ]
  }
 ],
 "metadata": {
  "kernelspec": {
   "display_name": "Python 3 (ipykernel)",
   "language": "python",
   "name": "python3"
  },
  "language_info": {
   "codemirror_mode": {
    "name": "ipython",
    "version": 3
   },
   "file_extension": ".py",
   "mimetype": "text/x-python",
   "name": "python",
   "nbconvert_exporter": "python",
   "pygments_lexer": "ipython3",
   "version": "3.9.12"
  }
 },
 "nbformat": 4,
 "nbformat_minor": 5
}
